{
 "cells": [
  {
   "cell_type": "code",
   "execution_count": null,
   "id": "a96a0844",
   "metadata": {},
   "outputs": [],
   "source": [
    "import pandas as pd\n",
    "import numpy as np\n",
    "import statistics as st\n",
    "import matplotlib as mpl\n",
    "import matplotlib.pyplot as plt\n",
    "%matplotlib inline"
   ]
  },
  {
   "cell_type": "code",
   "execution_count": null,
   "id": "06c09b37",
   "metadata": {},
   "outputs": [],
   "source": [
    "data = pd.read_csv(\"DataIntPY_finalproj_hotel.csv\")\n",
    "data"
   ]
  },
  {
   "cell_type": "markdown",
   "id": "ce71912d",
   "metadata": {},
   "source": [
    "# Data Properties"
   ]
  },
  {
   "cell_type": "code",
   "execution_count": null,
   "id": "70826d48",
   "metadata": {},
   "outputs": [],
   "source": [
    "data.dtypes"
   ]
  },
  {
   "cell_type": "code",
   "execution_count": null,
   "id": "d9ef51a8",
   "metadata": {},
   "outputs": [],
   "source": [
    "data.shape"
   ]
  },
  {
   "cell_type": "code",
   "execution_count": null,
   "id": "0cb6b468",
   "metadata": {},
   "outputs": [],
   "source": [
    "data.info()"
   ]
  },
  {
   "cell_type": "markdown",
   "id": "83876e1c",
   "metadata": {},
   "source": [
    "# Descriptive Statistic"
   ]
  },
  {
   "cell_type": "code",
   "execution_count": null,
   "id": "34bb8b1f",
   "metadata": {},
   "outputs": [],
   "source": [
    "data.describe()"
   ]
  },
  {
   "cell_type": "markdown",
   "id": "bc12daaa",
   "metadata": {},
   "source": [
    "# Replace Missing Value"
   ]
  },
  {
   "cell_type": "code",
   "execution_count": null,
   "id": "b8a99728",
   "metadata": {},
   "outputs": [],
   "source": [
    "data.isna()"
   ]
  },
  {
   "cell_type": "code",
   "execution_count": null,
   "id": "020144aa",
   "metadata": {},
   "outputs": [],
   "source": [
    "data.isnull().sum()"
   ]
  },
  {
   "cell_type": "markdown",
   "id": "9ea4109a",
   "metadata": {},
   "source": [
    "Due to 'Company' has 112593 missing value, make it not valid, better to drop the column"
   ]
  },
  {
   "cell_type": "code",
   "execution_count": null,
   "id": "4fc31d0c",
   "metadata": {},
   "outputs": [],
   "source": [
    "data.drop('company', axis=1, inplace=True)"
   ]
  },
  {
   "cell_type": "code",
   "execution_count": null,
   "id": "cdf9a07a",
   "metadata": {
    "scrolled": false
   },
   "outputs": [],
   "source": [
    "data.isnull().sum()"
   ]
  },
  {
   "cell_type": "markdown",
   "id": "1deb8eeb",
   "metadata": {},
   "source": [
    "1. Replace Missing Value on Children Column"
   ]
  },
  {
   "cell_type": "code",
   "execution_count": null,
   "id": "ad5f8d41",
   "metadata": {
    "scrolled": true
   },
   "outputs": [],
   "source": [
    "data['children'].unique()"
   ]
  },
  {
   "cell_type": "code",
   "execution_count": null,
   "id": "c784c7f5",
   "metadata": {
    "scrolled": true
   },
   "outputs": [],
   "source": [
    "data['children'].value_counts()"
   ]
  },
  {
   "cell_type": "markdown",
   "id": "dd8c61fc",
   "metadata": {},
   "source": [
    "#Fill Missing value with mean"
   ]
  },
  {
   "cell_type": "code",
   "execution_count": null,
   "id": "80f52ed0",
   "metadata": {},
   "outputs": [],
   "source": [
    "data['children'] = data['children'].fillna(data['children'].mean())"
   ]
  },
  {
   "cell_type": "code",
   "execution_count": null,
   "id": "1b1d4d89",
   "metadata": {
    "scrolled": false
   },
   "outputs": [],
   "source": [
    "data.isnull().sum()"
   ]
  },
  {
   "cell_type": "markdown",
   "id": "7b30aef6",
   "metadata": {},
   "source": [
    "2. Replace Missing Value on Country Column"
   ]
  },
  {
   "cell_type": "code",
   "execution_count": null,
   "id": "f31003db",
   "metadata": {},
   "outputs": [],
   "source": [
    "data['country'].unique()"
   ]
  },
  {
   "cell_type": "code",
   "execution_count": null,
   "id": "5c625d81",
   "metadata": {},
   "outputs": [],
   "source": [
    "data['country'].value_counts()"
   ]
  },
  {
   "cell_type": "code",
   "execution_count": null,
   "id": "009176a5",
   "metadata": {},
   "outputs": [],
   "source": [
    "data['country'] = data['country'].fillna(data['country'].mode()[0])"
   ]
  },
  {
   "cell_type": "code",
   "execution_count": null,
   "id": "8c06fb49",
   "metadata": {},
   "outputs": [],
   "source": [
    "data.isna().sum()"
   ]
  },
  {
   "cell_type": "markdown",
   "id": "888576bb",
   "metadata": {},
   "source": [
    "3. Replace Missing Value on Country Column"
   ]
  },
  {
   "cell_type": "code",
   "execution_count": null,
   "id": "01878669",
   "metadata": {},
   "outputs": [],
   "source": [
    "data['agent'].unique()"
   ]
  },
  {
   "cell_type": "code",
   "execution_count": null,
   "id": "049299a4",
   "metadata": {},
   "outputs": [],
   "source": [
    "data['agent'] = data['agent'].fillna(data['agent'].mean())"
   ]
  },
  {
   "cell_type": "code",
   "execution_count": null,
   "id": "1e3b426b",
   "metadata": {
    "scrolled": true
   },
   "outputs": [],
   "source": [
    "data.isna().sum()"
   ]
  },
  {
   "cell_type": "markdown",
   "id": "1efb07ea",
   "metadata": {},
   "source": [
    "# Categorize based on Lead Time"
   ]
  },
  {
   "cell_type": "markdown",
   "id": "75935214",
   "metadata": {},
   "source": [
    "Create a new column with the following condition:\\\n",
    "a) <200 : Short Trip\\\n",
    "b) 200-450 : Medium Trip\\\n",
    "c) >max value : Long Trip"
   ]
  },
  {
   "cell_type": "code",
   "execution_count": null,
   "id": "7aeda5b2",
   "metadata": {},
   "outputs": [],
   "source": [
    "data['cat_lead_time'] = ''"
   ]
  },
  {
   "cell_type": "code",
   "execution_count": null,
   "id": "fbc4c5de",
   "metadata": {
    "scrolled": false
   },
   "outputs": [],
   "source": [
    "data[\"cat_lead_time\"] = np.where(data[\"lead_time\"] > 500 ,\"Long\", np.where(data[\"lead_time\"] >= 450, \"Medium\", \"Short\"))\n",
    "data"
   ]
  },
  {
   "cell_type": "markdown",
   "id": "36aeb178",
   "metadata": {},
   "source": [
    "# Get reservation_status_date after 2017"
   ]
  },
  {
   "cell_type": "code",
   "execution_count": null,
   "id": "69625270",
   "metadata": {},
   "outputs": [],
   "source": [
    "data['reservation_status_date'] = pd.to_datetime(data['reservation_status_date'], format='%Y-%m-%d')"
   ]
  },
  {
   "cell_type": "code",
   "execution_count": null,
   "id": "8a0a652e",
   "metadata": {},
   "outputs": [],
   "source": [
    "data.info()"
   ]
  },
  {
   "cell_type": "code",
   "execution_count": null,
   "id": "2d1b3f2f",
   "metadata": {},
   "outputs": [],
   "source": [
    "data['reservation_status_date'].unique()"
   ]
  },
  {
   "cell_type": "code",
   "execution_count": null,
   "id": "cb9d0074",
   "metadata": {
    "scrolled": false
   },
   "outputs": [],
   "source": [
    "df1 = data.loc[data['reservation_status_date'] > '2017']\n",
    "df1"
   ]
  },
  {
   "cell_type": "markdown",
   "id": "b93d1a78",
   "metadata": {},
   "source": [
    "# Most Crowded Month"
   ]
  },
  {
   "cell_type": "code",
   "execution_count": null,
   "id": "76e6fa20",
   "metadata": {},
   "outputs": [],
   "source": [
    "\n",
    "df2 = data['arrival_date_month']\n",
    "gc = df2.value_counts(ascending = True)\n",
    "fig = gc.plot(kind = 'barh', \n",
    "        grid = True,\n",
    "        fontsize = 10,\n",
    "        xlim = 5000,\n",
    "        facecolor = '#0066CC',\n",
    "       )\n",
    "\n",
    "fig.set_title('Most Crowded Month in 2015-2017',fontsize = 25, fontname = 'Times New Roman')\n",
    "fig.set_xlabel(\"Nums of People\", fontsize = 15)\n",
    "fig.set_ylabel(\"\", fontsize = 15)\n"
   ]
  }
 ],
 "metadata": {
  "kernelspec": {
   "display_name": "Python 3",
   "language": "python",
   "name": "python3"
  },
  "language_info": {
   "codemirror_mode": {
    "name": "ipython",
    "version": 3
   },
   "file_extension": ".py",
   "mimetype": "text/x-python",
   "name": "python",
   "nbconvert_exporter": "python",
   "pygments_lexer": "ipython3",
   "version": "3.8.8"
  }
 },
 "nbformat": 4,
 "nbformat_minor": 5
}
